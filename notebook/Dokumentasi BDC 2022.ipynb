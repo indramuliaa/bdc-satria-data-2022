{
  "cells": [
    {
      "cell_type": "markdown",
      "source": [
        "# Pendahuluan\n"
      ],
      "metadata": {
        "id": "8tdszy3QWqkl"
      }
    },
    {
      "cell_type": "markdown",
      "source": [
        "**By Indra Muliadi** | [LinkedIn](https://www.linkedin.com/in/indra-muliadi/) | [GitHub](https://github.com/indramuliaa)\n",
        "\n",
        "Selamat datang! Notebook ini dibuat sebagai dokumentasi pribadi dari project BDC Satria Data 2022 yang sudah dikerjakan. Dokumen ini juga dibagikan kepada teman-teman sebagai bahan pembelajaran dan pengetahuan untuk perlombaan Satria Data selanjutnya. Di sini, Anda akan menemukan informasi dan panduan tentang kompetisi, serta langkah-langkah yang kami ambil dalam menyelesaikan tantangan.\n",
        "\n",
        "**Note :** Notebook ini tidak memuat seluruh langkah dan proses yang kami lakukan pada BDC 2022, tetapi prosesnya disederhanakan dan penjelasan sedetail mungkin agar lebih mudah dipahami sebagai referensi pembelajaran.\n",
        "\n",
        "\n",
        "Link ke google colab ini dapat diakses [disini](https://colab.research.google.com/drive/1nBDFdii5RxaCJ-qOzEnn4oYNc177Lt9L?usp=sharing).\n"
      ],
      "metadata": {
        "id": "cLjQKz-1mUAW"
      }
    },
    {
      "cell_type": "markdown",
      "source": [
        "\n",
        "# Satria Data 2022\n",
        "\n"
      ],
      "metadata": {
        "id": "btXU_qGkdIya"
      }
    },
    {
      "cell_type": "markdown",
      "source": [
        "Untuk keperluan mengefektifkan pengelolaan anggaran BPJS Kesehatan, maka pada lomba BDC Satria Data 2022 peserta ditantang untuk melakukan prediksi status pulang peserta berdasarkan data FKTP BPJS Kesehatan. Bangun pemodelan untuk klasifikasi status pulang peserta menjadi “Sehat” dan “Belum_Sehat” dengan memanfaatkan data train. Kemudian lakukan prediksi kelas status pulang peserta pada data test. Panduan lebih lengkap dapat diakses [disini](https://docs.google.com/presentation/d/1jKw0q8ntvFWDw5aavLumclTt9xgr98Eh/edit?usp=sharing&ouid=107630577985843450829&rtpof=true&sd=true).\n",
        "<br><br>\n",
        "\n",
        "Seluruh resources yang diperlukan dapat diakses pada [Google Drive](https://drive.google.com/drive/folders/10Fc_thD_9QgJcX96bkV3srUGKMQwTnjx?usp=drive_link) atau [GitHub repository](https://github.com/indramuliaa/bdc-satria-data-2022)."
      ],
      "metadata": {
        "id": "guSvfNWdmOXc"
      }
    },
    {
      "cell_type": "markdown",
      "source": [
        "# Library yang digunakan\n",
        "\n",
        "Starter library yang digunakan adalah **pandas**, **numpy**, dan **matplotlib**. **pandas** dan **numpy** digunakan untuk processing data, sedangkan **matplotlib** digunakan untuk visualisasi data. Selain itu, nantinya akan dipakai library **scikit learn** untuk processing dan pembuatan model dan library **csv** untuk pembuatan file `submission.csv`.\n",
        "\n"
      ],
      "metadata": {
        "id": "3vpifcfEmFW0"
      }
    },
    {
      "cell_type": "code",
      "execution_count": 1,
      "metadata": {
        "id": "bmk0nu6ktZsG"
      },
      "outputs": [],
      "source": [
        "import pandas as pd\n",
        "import numpy as np\n",
        "import matplotlib.pyplot as plt"
      ]
    },
    {
      "cell_type": "markdown",
      "source": [
        "# Dataset yang digunakan\n",
        "\n",
        "Data yang digunakan dalam BDC 2022 merupakan catatan kunjungan dari peserta BPJS Kesehatan ke Fasilitas Kesehatan Tingkat Pertama (FKTP) selama tahun 2015 hingga 2020. Data kunjungan FKTP BPJS Kesehatan disimpan dalam format plain text `.txt`, antar cell data dipisahkan dengan koma. Urutan cell dari kiri ke kanan, sesuai dengan nama variabel yang tersedia dalam file [metadata](https://docs.google.com/spreadsheets/d/1NJDDApdsrmU0HEupNYiWYgweZuIjb289/edit?usp=sharing&ouid=107630577985843450829&rtpof=true&sd=true).\n",
        "\n",
        "- [Data train FKTP](https://drive.google.com/file/d/1x2R5SvtNn1BOvsPpsFXgPK2Xt2D6RCeR/view?usp=sharing) yang disimpan dalam `train_fktp.txt` : Data ini berisi 4,056,898 baris data kunjungan dengan 26 kolom, termasuk kolom target. \n",
        "\n",
        "- [Data test FKTP](https://drive.google.com/file/d/1Z4ShBm7ln0dNSXstH8F7pNjJF6-MIhN-/view?usp=drive_link) yang disimpan dalam `test_fktp.txt` : Data ini berisi 1,014,225 baris data kunjungan yang harus diprediksi dengan model yang diperoleh peserta BDC. \n",
        "\n",
        "- [Pengumpulan](https://drive.google.com/file/d/18-7uiGlP19aNDKf2OXaRwycGKA6EjqHp/view?usp=sharing) : Peserta BDC mengumpulkan hanya hasil prediksi kelas status pulang peserta untuk data test dalam file berformat comma separated value (csv). Gunakan file `submission.csv` untuk mengumpulkan jawaban.\n",
        "\n",
        "\n",
        "**Cara memasukkan dataset ke google colab** <br>\n",
        "Terdapat banyak cara untuk mengimport dataset ke google colab dan perlu disesuaikan dengan ukuran file, sumber file, jenis file, dll. Berikut adalah salah satu contoh cara mendownload data dari google drive ke google colab:\n",
        "\n",
        "1. Gunakan `!gdown` dengan sintaks seperti berikut\n",
        "\n",
        "```\n",
        "!gdown --id [id_drive]\n",
        "```\n",
        "`[id_drive]` diisi dengan id google drive file yang ingin didownload kedalam colab. Pastikan akses dari file tersebut sudah dibuka.\n",
        "\n",
        "2. Setelah file berhasil didownload ke dalam google colab, selanjutnya file sudah dapat diakses pada direktori `/content`. Anda dapat membukanya dengan mengklik icon 📁 di sebelah kiri.\n",
        "\n",
        "3. Jika berhasil didownload maka data sudah bisa digunakan lebih lanjut, misal membukanya dengan library **pandas** atau lainnya. \n",
        "\n",
        "4. Untuk melihat path file tersebut, anda dapat mengklik icon titik tiga di sebelah kanan file, kemudian pilih `copy path` atau `salin jalur`.\n"
      ],
      "metadata": {
        "id": "lhjkAB5uhYx2"
      }
    },
    {
      "cell_type": "code",
      "execution_count": 2,
      "metadata": {
        "colab": {
          "base_uri": "https://localhost:8080/"
        },
        "id": "hDR7T4siuIB-",
        "outputId": "7d834949-87c5-46ae-aa3f-f984c398f2a0"
      },
      "outputs": [
        {
          "output_type": "stream",
          "name": "stdout",
          "text": [
            "/usr/local/lib/python3.10/dist-packages/gdown/cli.py:121: FutureWarning: Option `--id` was deprecated in version 4.3.1 and will be removed in 5.0. You don't need to pass it anymore to use a file ID.\n",
            "  warnings.warn(\n",
            "Downloading...\n",
            "From: https://drive.google.com/uc?id=1x2R5SvtNn1BOvsPpsFXgPK2Xt2D6RCeR\n",
            "To: /content/train_fktp.txt\n",
            "100% 686M/686M [00:07<00:00, 94.5MB/s]\n"
          ]
        }
      ],
      "source": [
        "# import data training\n",
        "! gdown --id 1x2R5SvtNn1BOvsPpsFXgPK2Xt2D6RCeR"
      ]
    },
    {
      "cell_type": "code",
      "source": [
        "# import data testing\n",
        "! gdown --id 1Z4ShBm7ln0dNSXstH8F7pNjJF6-MIhN-"
      ],
      "metadata": {
        "colab": {
          "base_uri": "https://localhost:8080/"
        },
        "id": "iRvYtM7rn96M",
        "outputId": "a4b3fe10-85b1-41e6-b616-56f987d873ef"
      },
      "execution_count": 3,
      "outputs": [
        {
          "output_type": "stream",
          "name": "stdout",
          "text": [
            "/usr/local/lib/python3.10/dist-packages/gdown/cli.py:121: FutureWarning: Option `--id` was deprecated in version 4.3.1 and will be removed in 5.0. You don't need to pass it anymore to use a file ID.\n",
            "  warnings.warn(\n",
            "Downloading...\n",
            "From: https://drive.google.com/uc?id=1Z4ShBm7ln0dNSXstH8F7pNjJF6-MIhN-\n",
            "To: /content/test_fktp.txt\n",
            "100% 159M/159M [00:02<00:00, 61.9MB/s]\n"
          ]
        }
      ]
    },
    {
      "cell_type": "code",
      "source": [
        "# import data submission\n",
        "! gdown --id 1pBGQJIuRqHnWaqEuyYpRrZbbR-qd6s7N"
      ],
      "metadata": {
        "colab": {
          "base_uri": "https://localhost:8080/"
        },
        "id": "meXnoRwaLhHM",
        "outputId": "4416bc48-db10-4578-991e-b8b851180123"
      },
      "execution_count": 4,
      "outputs": [
        {
          "output_type": "stream",
          "name": "stdout",
          "text": [
            "/usr/local/lib/python3.10/dist-packages/gdown/cli.py:121: FutureWarning: Option `--id` was deprecated in version 4.3.1 and will be removed in 5.0. You don't need to pass it anymore to use a file ID.\n",
            "  warnings.warn(\n",
            "Downloading...\n",
            "From: https://drive.google.com/uc?id=1pBGQJIuRqHnWaqEuyYpRrZbbR-qd6s7N\n",
            "To: /content/submission.csv\n",
            "100% 29.0M/29.0M [00:00<00:00, 62.4MB/s]\n"
          ]
        }
      ]
    },
    {
      "cell_type": "markdown",
      "source": [
        "setelah data berhasil didownload. Data dapat diolah lebih lanjut, seperti berikut data dibaca menggunakan library **pandas**. Perhatikan bahwa `column_names` dibawah merupakan nama kolom yang terdapat pada [metadata](https://docs.google.com/spreadsheets/d/1NJDDApdsrmU0HEupNYiWYgweZuIjb289/edit?usp=sharing&ouid=107630577985843450829&rtpof=true&sd=true) yang akan diinputkan menjadi nama kolom pada file `.csv` yang secara defaultnya tidak memiliki nama kolom."
      ],
      "metadata": {
        "id": "y4JDLOw8o1zr"
      }
    },
    {
      "cell_type": "code",
      "execution_count": 5,
      "metadata": {
        "colab": {
          "base_uri": "https://localhost:8080/",
          "height": 473
        },
        "id": "LLKv6ge2ub4t",
        "outputId": "1b4cb401-f4ff-4878-c422-1577f3867c89"
      },
      "outputs": [
        {
          "output_type": "execute_result",
          "data": {
            "text/plain": [
              "        PSTV01     PSTV02      PSTV15             FKP02       FKP03  \\\n",
              "0  157978748.0   50765420   20.064983         958073632  2019-08-01   \n",
              "1   95085112.0   26931775    2.626307  449590620P000054  2020-06-17   \n",
              "2  224470578.0  227368233    1.051830  467490619P000001  2019-06-01   \n",
              "3   63871289.0   62313678  364.741455  254321219Y002368  2019-12-21   \n",
              "4   29915626.0  113446188    1.050523   88681119P000020  2019-11-04   \n",
              "\n",
              "        FKP04  FKP05  FKP06  FKP07  FKP08  ...  FKP15  \\\n",
              "0  2019-08-01     61   6108      3      1  ...   9999   \n",
              "1  2020-06-17     51   5171      9      3  ...   K297   \n",
              "2  2019-06-01     35   3516      9      2  ...   Z309   \n",
              "3  2019-12-21     34   3402      3      1  ...    I10   \n",
              "4  2019-11-04     35   3509      3      1  ...   I110   \n",
              "\n",
              "                                              FKP15A  FKP16  FKP17  FKP18  \\\n",
              "0                                               9999     98   9998     98   \n",
              "1                             Gastritis, unspecified     98   9998     98   \n",
              "2              Contraceptive management, unspecified     98   9998     98   \n",
              "3                   Essential (primary) hypertension     98   9998     98   \n",
              "4  Hypertensive heart disease with (congestive) h...     98   9998     98   \n",
              "\n",
              "  FKP19 FKP20 FKP21  FKP22   FKP13Class  \n",
              "0    98    98    98      2        Sehat  \n",
              "1    98    98    98      1  Belum_Sehat  \n",
              "2    98    98    98      1  Belum_Sehat  \n",
              "3    98    98    98      1  Belum_Sehat  \n",
              "4    98    98    98      1  Belum_Sehat  \n",
              "\n",
              "[5 rows x 26 columns]"
            ],
            "text/html": [
              "\n",
              "  <div id=\"df-a3ff75fc-3c5a-47a8-91f3-1a992cc18f71\">\n",
              "    <div class=\"colab-df-container\">\n",
              "      <div>\n",
              "<style scoped>\n",
              "    .dataframe tbody tr th:only-of-type {\n",
              "        vertical-align: middle;\n",
              "    }\n",
              "\n",
              "    .dataframe tbody tr th {\n",
              "        vertical-align: top;\n",
              "    }\n",
              "\n",
              "    .dataframe thead th {\n",
              "        text-align: right;\n",
              "    }\n",
              "</style>\n",
              "<table border=\"1\" class=\"dataframe\">\n",
              "  <thead>\n",
              "    <tr style=\"text-align: right;\">\n",
              "      <th></th>\n",
              "      <th>PSTV01</th>\n",
              "      <th>PSTV02</th>\n",
              "      <th>PSTV15</th>\n",
              "      <th>FKP02</th>\n",
              "      <th>FKP03</th>\n",
              "      <th>FKP04</th>\n",
              "      <th>FKP05</th>\n",
              "      <th>FKP06</th>\n",
              "      <th>FKP07</th>\n",
              "      <th>FKP08</th>\n",
              "      <th>...</th>\n",
              "      <th>FKP15</th>\n",
              "      <th>FKP15A</th>\n",
              "      <th>FKP16</th>\n",
              "      <th>FKP17</th>\n",
              "      <th>FKP18</th>\n",
              "      <th>FKP19</th>\n",
              "      <th>FKP20</th>\n",
              "      <th>FKP21</th>\n",
              "      <th>FKP22</th>\n",
              "      <th>FKP13Class</th>\n",
              "    </tr>\n",
              "  </thead>\n",
              "  <tbody>\n",
              "    <tr>\n",
              "      <th>0</th>\n",
              "      <td>157978748.0</td>\n",
              "      <td>50765420</td>\n",
              "      <td>20.064983</td>\n",
              "      <td>958073632</td>\n",
              "      <td>2019-08-01</td>\n",
              "      <td>2019-08-01</td>\n",
              "      <td>61</td>\n",
              "      <td>6108</td>\n",
              "      <td>3</td>\n",
              "      <td>1</td>\n",
              "      <td>...</td>\n",
              "      <td>9999</td>\n",
              "      <td>9999</td>\n",
              "      <td>98</td>\n",
              "      <td>9998</td>\n",
              "      <td>98</td>\n",
              "      <td>98</td>\n",
              "      <td>98</td>\n",
              "      <td>98</td>\n",
              "      <td>2</td>\n",
              "      <td>Sehat</td>\n",
              "    </tr>\n",
              "    <tr>\n",
              "      <th>1</th>\n",
              "      <td>95085112.0</td>\n",
              "      <td>26931775</td>\n",
              "      <td>2.626307</td>\n",
              "      <td>449590620P000054</td>\n",
              "      <td>2020-06-17</td>\n",
              "      <td>2020-06-17</td>\n",
              "      <td>51</td>\n",
              "      <td>5171</td>\n",
              "      <td>9</td>\n",
              "      <td>3</td>\n",
              "      <td>...</td>\n",
              "      <td>K297</td>\n",
              "      <td>Gastritis, unspecified</td>\n",
              "      <td>98</td>\n",
              "      <td>9998</td>\n",
              "      <td>98</td>\n",
              "      <td>98</td>\n",
              "      <td>98</td>\n",
              "      <td>98</td>\n",
              "      <td>1</td>\n",
              "      <td>Belum_Sehat</td>\n",
              "    </tr>\n",
              "    <tr>\n",
              "      <th>2</th>\n",
              "      <td>224470578.0</td>\n",
              "      <td>227368233</td>\n",
              "      <td>1.051830</td>\n",
              "      <td>467490619P000001</td>\n",
              "      <td>2019-06-01</td>\n",
              "      <td>2019-06-01</td>\n",
              "      <td>35</td>\n",
              "      <td>3516</td>\n",
              "      <td>9</td>\n",
              "      <td>2</td>\n",
              "      <td>...</td>\n",
              "      <td>Z309</td>\n",
              "      <td>Contraceptive management, unspecified</td>\n",
              "      <td>98</td>\n",
              "      <td>9998</td>\n",
              "      <td>98</td>\n",
              "      <td>98</td>\n",
              "      <td>98</td>\n",
              "      <td>98</td>\n",
              "      <td>1</td>\n",
              "      <td>Belum_Sehat</td>\n",
              "    </tr>\n",
              "    <tr>\n",
              "      <th>3</th>\n",
              "      <td>63871289.0</td>\n",
              "      <td>62313678</td>\n",
              "      <td>364.741455</td>\n",
              "      <td>254321219Y002368</td>\n",
              "      <td>2019-12-21</td>\n",
              "      <td>2019-12-21</td>\n",
              "      <td>34</td>\n",
              "      <td>3402</td>\n",
              "      <td>3</td>\n",
              "      <td>1</td>\n",
              "      <td>...</td>\n",
              "      <td>I10</td>\n",
              "      <td>Essential (primary) hypertension</td>\n",
              "      <td>98</td>\n",
              "      <td>9998</td>\n",
              "      <td>98</td>\n",
              "      <td>98</td>\n",
              "      <td>98</td>\n",
              "      <td>98</td>\n",
              "      <td>1</td>\n",
              "      <td>Belum_Sehat</td>\n",
              "    </tr>\n",
              "    <tr>\n",
              "      <th>4</th>\n",
              "      <td>29915626.0</td>\n",
              "      <td>113446188</td>\n",
              "      <td>1.050523</td>\n",
              "      <td>88681119P000020</td>\n",
              "      <td>2019-11-04</td>\n",
              "      <td>2019-11-04</td>\n",
              "      <td>35</td>\n",
              "      <td>3509</td>\n",
              "      <td>3</td>\n",
              "      <td>1</td>\n",
              "      <td>...</td>\n",
              "      <td>I110</td>\n",
              "      <td>Hypertensive heart disease with (congestive) h...</td>\n",
              "      <td>98</td>\n",
              "      <td>9998</td>\n",
              "      <td>98</td>\n",
              "      <td>98</td>\n",
              "      <td>98</td>\n",
              "      <td>98</td>\n",
              "      <td>1</td>\n",
              "      <td>Belum_Sehat</td>\n",
              "    </tr>\n",
              "  </tbody>\n",
              "</table>\n",
              "<p>5 rows × 26 columns</p>\n",
              "</div>\n",
              "      <button class=\"colab-df-convert\" onclick=\"convertToInteractive('df-a3ff75fc-3c5a-47a8-91f3-1a992cc18f71')\"\n",
              "              title=\"Convert this dataframe to an interactive table.\"\n",
              "              style=\"display:none;\">\n",
              "        \n",
              "  <svg xmlns=\"http://www.w3.org/2000/svg\" height=\"24px\"viewBox=\"0 0 24 24\"\n",
              "       width=\"24px\">\n",
              "    <path d=\"M0 0h24v24H0V0z\" fill=\"none\"/>\n",
              "    <path d=\"M18.56 5.44l.94 2.06.94-2.06 2.06-.94-2.06-.94-.94-2.06-.94 2.06-2.06.94zm-11 1L8.5 8.5l.94-2.06 2.06-.94-2.06-.94L8.5 2.5l-.94 2.06-2.06.94zm10 10l.94 2.06.94-2.06 2.06-.94-2.06-.94-.94-2.06-.94 2.06-2.06.94z\"/><path d=\"M17.41 7.96l-1.37-1.37c-.4-.4-.92-.59-1.43-.59-.52 0-1.04.2-1.43.59L10.3 9.45l-7.72 7.72c-.78.78-.78 2.05 0 2.83L4 21.41c.39.39.9.59 1.41.59.51 0 1.02-.2 1.41-.59l7.78-7.78 2.81-2.81c.8-.78.8-2.07 0-2.86zM5.41 20L4 18.59l7.72-7.72 1.47 1.35L5.41 20z\"/>\n",
              "  </svg>\n",
              "      </button>\n",
              "      \n",
              "  <style>\n",
              "    .colab-df-container {\n",
              "      display:flex;\n",
              "      flex-wrap:wrap;\n",
              "      gap: 12px;\n",
              "    }\n",
              "\n",
              "    .colab-df-convert {\n",
              "      background-color: #E8F0FE;\n",
              "      border: none;\n",
              "      border-radius: 50%;\n",
              "      cursor: pointer;\n",
              "      display: none;\n",
              "      fill: #1967D2;\n",
              "      height: 32px;\n",
              "      padding: 0 0 0 0;\n",
              "      width: 32px;\n",
              "    }\n",
              "\n",
              "    .colab-df-convert:hover {\n",
              "      background-color: #E2EBFA;\n",
              "      box-shadow: 0px 1px 2px rgba(60, 64, 67, 0.3), 0px 1px 3px 1px rgba(60, 64, 67, 0.15);\n",
              "      fill: #174EA6;\n",
              "    }\n",
              "\n",
              "    [theme=dark] .colab-df-convert {\n",
              "      background-color: #3B4455;\n",
              "      fill: #D2E3FC;\n",
              "    }\n",
              "\n",
              "    [theme=dark] .colab-df-convert:hover {\n",
              "      background-color: #434B5C;\n",
              "      box-shadow: 0px 1px 3px 1px rgba(0, 0, 0, 0.15);\n",
              "      filter: drop-shadow(0px 1px 2px rgba(0, 0, 0, 0.3));\n",
              "      fill: #FFFFFF;\n",
              "    }\n",
              "  </style>\n",
              "\n",
              "      <script>\n",
              "        const buttonEl =\n",
              "          document.querySelector('#df-a3ff75fc-3c5a-47a8-91f3-1a992cc18f71 button.colab-df-convert');\n",
              "        buttonEl.style.display =\n",
              "          google.colab.kernel.accessAllowed ? 'block' : 'none';\n",
              "\n",
              "        async function convertToInteractive(key) {\n",
              "          const element = document.querySelector('#df-a3ff75fc-3c5a-47a8-91f3-1a992cc18f71');\n",
              "          const dataTable =\n",
              "            await google.colab.kernel.invokeFunction('convertToInteractive',\n",
              "                                                     [key], {});\n",
              "          if (!dataTable) return;\n",
              "\n",
              "          const docLinkHtml = 'Like what you see? Visit the ' +\n",
              "            '<a target=\"_blank\" href=https://colab.research.google.com/notebooks/data_table.ipynb>data table notebook</a>'\n",
              "            + ' to learn more about interactive tables.';\n",
              "          element.innerHTML = '';\n",
              "          dataTable['output_type'] = 'display_data';\n",
              "          await google.colab.output.renderOutput(dataTable, element);\n",
              "          const docLink = document.createElement('div');\n",
              "          docLink.innerHTML = docLinkHtml;\n",
              "          element.appendChild(docLink);\n",
              "        }\n",
              "      </script>\n",
              "    </div>\n",
              "  </div>\n",
              "  "
            ]
          },
          "metadata": {},
          "execution_count": 5
        }
      ],
      "source": [
        "# Nama kolom berdasarkan metadata\n",
        "column_names = [\"PSTV01\", \"PSTV02\", \"PSTV15\", \"FKP02\", \"FKP03\", \"FKP04\",       \n",
        "               \"FKP05\", \"FKP06\", \"FKP07\", \"FKP08\", \"FKP09\", \"FKP10\",\n",
        "               \"FKP11\", \"FKP12\", \"FKP14\", \"FKP14A\", \"FKP15\", \"FKP15A\",\n",
        "               \"FKP16\", \"FKP17\", \"FKP18\", \"FKP19\", \"FKP20\", \"FKP21\", \"FKP22\",\n",
        "               \"FKP13Class\"]\n",
        "\n",
        "# Membaca data train menggunakan pandas\n",
        "train_df = pd.read_csv(\"train_fktp.txt\", names=column_names)\n",
        "train_df.head()"
      ]
    },
    {
      "cell_type": "code",
      "source": [
        "# Membacata data test menggunakan pandas\n",
        "test_df = pd.read_csv(\"test_fktp.txt\", names = column_names)\n",
        "test_df.head()"
      ],
      "metadata": {
        "colab": {
          "base_uri": "https://localhost:8080/",
          "height": 401
        },
        "id": "3uwZ_91dl5oH",
        "outputId": "c76ef584-0642-4fb7-996d-eafaba5b1291"
      },
      "execution_count": 6,
      "outputs": [
        {
          "output_type": "stream",
          "name": "stderr",
          "text": [
            "<ipython-input-6-f2d24557aab3>:2: DtypeWarning: Columns (3,15,16,17) have mixed types. Specify dtype option on import or set low_memory=False.\n",
            "  test_df = pd.read_csv(\"test_fktp.txt\", names = column_names)\n"
          ]
        },
        {
          "output_type": "execute_result",
          "data": {
            "text/plain": [
              "        PSTV01     PSTV02      PSTV15       FKP02       FKP03       FKP04  \\\n",
              "0  187883292.0   98048784  240.884842   954386050  2019-08-21  2019-08-21   \n",
              "1  123307139.0   20969999   47.378571   774246805  2019-02-12  2019-02-12   \n",
              "2   21416273.0   21416273    5.882927  1202010273  2020-03-27  2020-03-27   \n",
              "3   97630052.0   97630052  172.916031  1286640248  2020-07-30  2020-07-30   \n",
              "4  124531163.0  124531163  187.203140  1285179242  2020-07-28  2020-07-28   \n",
              "\n",
              "   FKP05  FKP06  FKP07  FKP08  ...  FKP15  FKP15A  FKP16  FKP17  FKP18 FKP19  \\\n",
              "0     31   3172      9      2  ...   9999    9999     98   9998     98    98   \n",
              "1     17   1705      3      1  ...   9999    9999     98   9998     98    98   \n",
              "2     64   6402      3      1  ...   9999    9999     98   9998     98    98   \n",
              "3     18   1872      9      2  ...   9999    9999     98   9998     98    98   \n",
              "4     18   1809      9      2  ...   9999    9999     98   9998     98    98   \n",
              "\n",
              "  FKP20 FKP21  FKP22  FKP13Class  \n",
              "0    98    98      2         NaN  \n",
              "1    98    98      2         NaN  \n",
              "2    98    98      2         NaN  \n",
              "3    98    98      2         NaN  \n",
              "4    98    98      2         NaN  \n",
              "\n",
              "[5 rows x 26 columns]"
            ],
            "text/html": [
              "\n",
              "  <div id=\"df-c626f881-2f88-45eb-8717-8e08898b0d02\">\n",
              "    <div class=\"colab-df-container\">\n",
              "      <div>\n",
              "<style scoped>\n",
              "    .dataframe tbody tr th:only-of-type {\n",
              "        vertical-align: middle;\n",
              "    }\n",
              "\n",
              "    .dataframe tbody tr th {\n",
              "        vertical-align: top;\n",
              "    }\n",
              "\n",
              "    .dataframe thead th {\n",
              "        text-align: right;\n",
              "    }\n",
              "</style>\n",
              "<table border=\"1\" class=\"dataframe\">\n",
              "  <thead>\n",
              "    <tr style=\"text-align: right;\">\n",
              "      <th></th>\n",
              "      <th>PSTV01</th>\n",
              "      <th>PSTV02</th>\n",
              "      <th>PSTV15</th>\n",
              "      <th>FKP02</th>\n",
              "      <th>FKP03</th>\n",
              "      <th>FKP04</th>\n",
              "      <th>FKP05</th>\n",
              "      <th>FKP06</th>\n",
              "      <th>FKP07</th>\n",
              "      <th>FKP08</th>\n",
              "      <th>...</th>\n",
              "      <th>FKP15</th>\n",
              "      <th>FKP15A</th>\n",
              "      <th>FKP16</th>\n",
              "      <th>FKP17</th>\n",
              "      <th>FKP18</th>\n",
              "      <th>FKP19</th>\n",
              "      <th>FKP20</th>\n",
              "      <th>FKP21</th>\n",
              "      <th>FKP22</th>\n",
              "      <th>FKP13Class</th>\n",
              "    </tr>\n",
              "  </thead>\n",
              "  <tbody>\n",
              "    <tr>\n",
              "      <th>0</th>\n",
              "      <td>187883292.0</td>\n",
              "      <td>98048784</td>\n",
              "      <td>240.884842</td>\n",
              "      <td>954386050</td>\n",
              "      <td>2019-08-21</td>\n",
              "      <td>2019-08-21</td>\n",
              "      <td>31</td>\n",
              "      <td>3172</td>\n",
              "      <td>9</td>\n",
              "      <td>2</td>\n",
              "      <td>...</td>\n",
              "      <td>9999</td>\n",
              "      <td>9999</td>\n",
              "      <td>98</td>\n",
              "      <td>9998</td>\n",
              "      <td>98</td>\n",
              "      <td>98</td>\n",
              "      <td>98</td>\n",
              "      <td>98</td>\n",
              "      <td>2</td>\n",
              "      <td>NaN</td>\n",
              "    </tr>\n",
              "    <tr>\n",
              "      <th>1</th>\n",
              "      <td>123307139.0</td>\n",
              "      <td>20969999</td>\n",
              "      <td>47.378571</td>\n",
              "      <td>774246805</td>\n",
              "      <td>2019-02-12</td>\n",
              "      <td>2019-02-12</td>\n",
              "      <td>17</td>\n",
              "      <td>1705</td>\n",
              "      <td>3</td>\n",
              "      <td>1</td>\n",
              "      <td>...</td>\n",
              "      <td>9999</td>\n",
              "      <td>9999</td>\n",
              "      <td>98</td>\n",
              "      <td>9998</td>\n",
              "      <td>98</td>\n",
              "      <td>98</td>\n",
              "      <td>98</td>\n",
              "      <td>98</td>\n",
              "      <td>2</td>\n",
              "      <td>NaN</td>\n",
              "    </tr>\n",
              "    <tr>\n",
              "      <th>2</th>\n",
              "      <td>21416273.0</td>\n",
              "      <td>21416273</td>\n",
              "      <td>5.882927</td>\n",
              "      <td>1202010273</td>\n",
              "      <td>2020-03-27</td>\n",
              "      <td>2020-03-27</td>\n",
              "      <td>64</td>\n",
              "      <td>6402</td>\n",
              "      <td>3</td>\n",
              "      <td>1</td>\n",
              "      <td>...</td>\n",
              "      <td>9999</td>\n",
              "      <td>9999</td>\n",
              "      <td>98</td>\n",
              "      <td>9998</td>\n",
              "      <td>98</td>\n",
              "      <td>98</td>\n",
              "      <td>98</td>\n",
              "      <td>98</td>\n",
              "      <td>2</td>\n",
              "      <td>NaN</td>\n",
              "    </tr>\n",
              "    <tr>\n",
              "      <th>3</th>\n",
              "      <td>97630052.0</td>\n",
              "      <td>97630052</td>\n",
              "      <td>172.916031</td>\n",
              "      <td>1286640248</td>\n",
              "      <td>2020-07-30</td>\n",
              "      <td>2020-07-30</td>\n",
              "      <td>18</td>\n",
              "      <td>1872</td>\n",
              "      <td>9</td>\n",
              "      <td>2</td>\n",
              "      <td>...</td>\n",
              "      <td>9999</td>\n",
              "      <td>9999</td>\n",
              "      <td>98</td>\n",
              "      <td>9998</td>\n",
              "      <td>98</td>\n",
              "      <td>98</td>\n",
              "      <td>98</td>\n",
              "      <td>98</td>\n",
              "      <td>2</td>\n",
              "      <td>NaN</td>\n",
              "    </tr>\n",
              "    <tr>\n",
              "      <th>4</th>\n",
              "      <td>124531163.0</td>\n",
              "      <td>124531163</td>\n",
              "      <td>187.203140</td>\n",
              "      <td>1285179242</td>\n",
              "      <td>2020-07-28</td>\n",
              "      <td>2020-07-28</td>\n",
              "      <td>18</td>\n",
              "      <td>1809</td>\n",
              "      <td>9</td>\n",
              "      <td>2</td>\n",
              "      <td>...</td>\n",
              "      <td>9999</td>\n",
              "      <td>9999</td>\n",
              "      <td>98</td>\n",
              "      <td>9998</td>\n",
              "      <td>98</td>\n",
              "      <td>98</td>\n",
              "      <td>98</td>\n",
              "      <td>98</td>\n",
              "      <td>2</td>\n",
              "      <td>NaN</td>\n",
              "    </tr>\n",
              "  </tbody>\n",
              "</table>\n",
              "<p>5 rows × 26 columns</p>\n",
              "</div>\n",
              "      <button class=\"colab-df-convert\" onclick=\"convertToInteractive('df-c626f881-2f88-45eb-8717-8e08898b0d02')\"\n",
              "              title=\"Convert this dataframe to an interactive table.\"\n",
              "              style=\"display:none;\">\n",
              "        \n",
              "  <svg xmlns=\"http://www.w3.org/2000/svg\" height=\"24px\"viewBox=\"0 0 24 24\"\n",
              "       width=\"24px\">\n",
              "    <path d=\"M0 0h24v24H0V0z\" fill=\"none\"/>\n",
              "    <path d=\"M18.56 5.44l.94 2.06.94-2.06 2.06-.94-2.06-.94-.94-2.06-.94 2.06-2.06.94zm-11 1L8.5 8.5l.94-2.06 2.06-.94-2.06-.94L8.5 2.5l-.94 2.06-2.06.94zm10 10l.94 2.06.94-2.06 2.06-.94-2.06-.94-.94-2.06-.94 2.06-2.06.94z\"/><path d=\"M17.41 7.96l-1.37-1.37c-.4-.4-.92-.59-1.43-.59-.52 0-1.04.2-1.43.59L10.3 9.45l-7.72 7.72c-.78.78-.78 2.05 0 2.83L4 21.41c.39.39.9.59 1.41.59.51 0 1.02-.2 1.41-.59l7.78-7.78 2.81-2.81c.8-.78.8-2.07 0-2.86zM5.41 20L4 18.59l7.72-7.72 1.47 1.35L5.41 20z\"/>\n",
              "  </svg>\n",
              "      </button>\n",
              "      \n",
              "  <style>\n",
              "    .colab-df-container {\n",
              "      display:flex;\n",
              "      flex-wrap:wrap;\n",
              "      gap: 12px;\n",
              "    }\n",
              "\n",
              "    .colab-df-convert {\n",
              "      background-color: #E8F0FE;\n",
              "      border: none;\n",
              "      border-radius: 50%;\n",
              "      cursor: pointer;\n",
              "      display: none;\n",
              "      fill: #1967D2;\n",
              "      height: 32px;\n",
              "      padding: 0 0 0 0;\n",
              "      width: 32px;\n",
              "    }\n",
              "\n",
              "    .colab-df-convert:hover {\n",
              "      background-color: #E2EBFA;\n",
              "      box-shadow: 0px 1px 2px rgba(60, 64, 67, 0.3), 0px 1px 3px 1px rgba(60, 64, 67, 0.15);\n",
              "      fill: #174EA6;\n",
              "    }\n",
              "\n",
              "    [theme=dark] .colab-df-convert {\n",
              "      background-color: #3B4455;\n",
              "      fill: #D2E3FC;\n",
              "    }\n",
              "\n",
              "    [theme=dark] .colab-df-convert:hover {\n",
              "      background-color: #434B5C;\n",
              "      box-shadow: 0px 1px 3px 1px rgba(0, 0, 0, 0.15);\n",
              "      filter: drop-shadow(0px 1px 2px rgba(0, 0, 0, 0.3));\n",
              "      fill: #FFFFFF;\n",
              "    }\n",
              "  </style>\n",
              "\n",
              "      <script>\n",
              "        const buttonEl =\n",
              "          document.querySelector('#df-c626f881-2f88-45eb-8717-8e08898b0d02 button.colab-df-convert');\n",
              "        buttonEl.style.display =\n",
              "          google.colab.kernel.accessAllowed ? 'block' : 'none';\n",
              "\n",
              "        async function convertToInteractive(key) {\n",
              "          const element = document.querySelector('#df-c626f881-2f88-45eb-8717-8e08898b0d02');\n",
              "          const dataTable =\n",
              "            await google.colab.kernel.invokeFunction('convertToInteractive',\n",
              "                                                     [key], {});\n",
              "          if (!dataTable) return;\n",
              "\n",
              "          const docLinkHtml = 'Like what you see? Visit the ' +\n",
              "            '<a target=\"_blank\" href=https://colab.research.google.com/notebooks/data_table.ipynb>data table notebook</a>'\n",
              "            + ' to learn more about interactive tables.';\n",
              "          element.innerHTML = '';\n",
              "          dataTable['output_type'] = 'display_data';\n",
              "          await google.colab.output.renderOutput(dataTable, element);\n",
              "          const docLink = document.createElement('div');\n",
              "          docLink.innerHTML = docLinkHtml;\n",
              "          element.appendChild(docLink);\n",
              "        }\n",
              "      </script>\n",
              "    </div>\n",
              "  </div>\n",
              "  "
            ]
          },
          "metadata": {},
          "execution_count": 6
        }
      ]
    },
    {
      "cell_type": "code",
      "source": [
        "# Membaca submission.csv\n",
        "submission = pd.read_csv(\"submission.csv\")\n",
        "submission.rename({'Unnamed: 0': ''}, axis=1, inplace=True)\n",
        "del submission[\"Status\"]\n",
        "submission.head()"
      ],
      "metadata": {
        "colab": {
          "base_uri": "https://localhost:8080/",
          "height": 241
        },
        "id": "B5Rkkz5AL4rW",
        "outputId": "438ee060-be48-4371-bcec-17ecbe984893"
      },
      "execution_count": 7,
      "outputs": [
        {
          "output_type": "stream",
          "name": "stderr",
          "text": [
            "<ipython-input-7-75fb9922b97d>:2: DtypeWarning: Columns (1) have mixed types. Specify dtype option on import or set low_memory=False.\n",
            "  submission = pd.read_csv(\"submission.csv\")\n"
          ]
        },
        {
          "output_type": "execute_result",
          "data": {
            "text/plain": [
              "           FKP02\n",
              "0  1   954386050\n",
              "1  2   774246805\n",
              "2  3  1202010273\n",
              "3  4  1286640248\n",
              "4  5  1285179242"
            ],
            "text/html": [
              "\n",
              "  <div id=\"df-2624d569-6dd0-4813-b3ae-02bf415d527c\">\n",
              "    <div class=\"colab-df-container\">\n",
              "      <div>\n",
              "<style scoped>\n",
              "    .dataframe tbody tr th:only-of-type {\n",
              "        vertical-align: middle;\n",
              "    }\n",
              "\n",
              "    .dataframe tbody tr th {\n",
              "        vertical-align: top;\n",
              "    }\n",
              "\n",
              "    .dataframe thead th {\n",
              "        text-align: right;\n",
              "    }\n",
              "</style>\n",
              "<table border=\"1\" class=\"dataframe\">\n",
              "  <thead>\n",
              "    <tr style=\"text-align: right;\">\n",
              "      <th></th>\n",
              "      <th></th>\n",
              "      <th>FKP02</th>\n",
              "    </tr>\n",
              "  </thead>\n",
              "  <tbody>\n",
              "    <tr>\n",
              "      <th>0</th>\n",
              "      <td>1</td>\n",
              "      <td>954386050</td>\n",
              "    </tr>\n",
              "    <tr>\n",
              "      <th>1</th>\n",
              "      <td>2</td>\n",
              "      <td>774246805</td>\n",
              "    </tr>\n",
              "    <tr>\n",
              "      <th>2</th>\n",
              "      <td>3</td>\n",
              "      <td>1202010273</td>\n",
              "    </tr>\n",
              "    <tr>\n",
              "      <th>3</th>\n",
              "      <td>4</td>\n",
              "      <td>1286640248</td>\n",
              "    </tr>\n",
              "    <tr>\n",
              "      <th>4</th>\n",
              "      <td>5</td>\n",
              "      <td>1285179242</td>\n",
              "    </tr>\n",
              "  </tbody>\n",
              "</table>\n",
              "</div>\n",
              "      <button class=\"colab-df-convert\" onclick=\"convertToInteractive('df-2624d569-6dd0-4813-b3ae-02bf415d527c')\"\n",
              "              title=\"Convert this dataframe to an interactive table.\"\n",
              "              style=\"display:none;\">\n",
              "        \n",
              "  <svg xmlns=\"http://www.w3.org/2000/svg\" height=\"24px\"viewBox=\"0 0 24 24\"\n",
              "       width=\"24px\">\n",
              "    <path d=\"M0 0h24v24H0V0z\" fill=\"none\"/>\n",
              "    <path d=\"M18.56 5.44l.94 2.06.94-2.06 2.06-.94-2.06-.94-.94-2.06-.94 2.06-2.06.94zm-11 1L8.5 8.5l.94-2.06 2.06-.94-2.06-.94L8.5 2.5l-.94 2.06-2.06.94zm10 10l.94 2.06.94-2.06 2.06-.94-2.06-.94-.94-2.06-.94 2.06-2.06.94z\"/><path d=\"M17.41 7.96l-1.37-1.37c-.4-.4-.92-.59-1.43-.59-.52 0-1.04.2-1.43.59L10.3 9.45l-7.72 7.72c-.78.78-.78 2.05 0 2.83L4 21.41c.39.39.9.59 1.41.59.51 0 1.02-.2 1.41-.59l7.78-7.78 2.81-2.81c.8-.78.8-2.07 0-2.86zM5.41 20L4 18.59l7.72-7.72 1.47 1.35L5.41 20z\"/>\n",
              "  </svg>\n",
              "      </button>\n",
              "      \n",
              "  <style>\n",
              "    .colab-df-container {\n",
              "      display:flex;\n",
              "      flex-wrap:wrap;\n",
              "      gap: 12px;\n",
              "    }\n",
              "\n",
              "    .colab-df-convert {\n",
              "      background-color: #E8F0FE;\n",
              "      border: none;\n",
              "      border-radius: 50%;\n",
              "      cursor: pointer;\n",
              "      display: none;\n",
              "      fill: #1967D2;\n",
              "      height: 32px;\n",
              "      padding: 0 0 0 0;\n",
              "      width: 32px;\n",
              "    }\n",
              "\n",
              "    .colab-df-convert:hover {\n",
              "      background-color: #E2EBFA;\n",
              "      box-shadow: 0px 1px 2px rgba(60, 64, 67, 0.3), 0px 1px 3px 1px rgba(60, 64, 67, 0.15);\n",
              "      fill: #174EA6;\n",
              "    }\n",
              "\n",
              "    [theme=dark] .colab-df-convert {\n",
              "      background-color: #3B4455;\n",
              "      fill: #D2E3FC;\n",
              "    }\n",
              "\n",
              "    [theme=dark] .colab-df-convert:hover {\n",
              "      background-color: #434B5C;\n",
              "      box-shadow: 0px 1px 3px 1px rgba(0, 0, 0, 0.15);\n",
              "      filter: drop-shadow(0px 1px 2px rgba(0, 0, 0, 0.3));\n",
              "      fill: #FFFFFF;\n",
              "    }\n",
              "  </style>\n",
              "\n",
              "      <script>\n",
              "        const buttonEl =\n",
              "          document.querySelector('#df-2624d569-6dd0-4813-b3ae-02bf415d527c button.colab-df-convert');\n",
              "        buttonEl.style.display =\n",
              "          google.colab.kernel.accessAllowed ? 'block' : 'none';\n",
              "\n",
              "        async function convertToInteractive(key) {\n",
              "          const element = document.querySelector('#df-2624d569-6dd0-4813-b3ae-02bf415d527c');\n",
              "          const dataTable =\n",
              "            await google.colab.kernel.invokeFunction('convertToInteractive',\n",
              "                                                     [key], {});\n",
              "          if (!dataTable) return;\n",
              "\n",
              "          const docLinkHtml = 'Like what you see? Visit the ' +\n",
              "            '<a target=\"_blank\" href=https://colab.research.google.com/notebooks/data_table.ipynb>data table notebook</a>'\n",
              "            + ' to learn more about interactive tables.';\n",
              "          element.innerHTML = '';\n",
              "          dataTable['output_type'] = 'display_data';\n",
              "          await google.colab.output.renderOutput(dataTable, element);\n",
              "          const docLink = document.createElement('div');\n",
              "          docLink.innerHTML = docLinkHtml;\n",
              "          element.appendChild(docLink);\n",
              "        }\n",
              "      </script>\n",
              "    </div>\n",
              "  </div>\n",
              "  "
            ]
          },
          "metadata": {},
          "execution_count": 7
        }
      ]
    },
    {
      "cell_type": "markdown",
      "source": [
        "# Exploratory Data Analysis (EDA)\n",
        "Analisis data eksploratif adalah metode yang digunakan dalam analisa data untuk memahami karakteristik dasar dari data yang tersedia. Tujuannya adalah untuk memahami lebih dalam tentang data secara umum sebelum dilakukan analisis lebih lanjut ataupun pembuatan model. Pembuatan visualisasi data sangat penting untuk membantu memvisualisasikan pola dan hubungan dalam data. Pada kasus ini kami tidak melakukan banyak eksplorasi pada data, namun fokus kami adalah mencari tahu hal-hal yang sekiranya diperlukan dalam pengolahan data lebih lanjut.\n"
      ],
      "metadata": {
        "id": "g0_4bX_pqSlp"
      }
    },
    {
      "cell_type": "code",
      "source": [
        "# menghitung ukuran dataset\n",
        "train_df.shape"
      ],
      "metadata": {
        "colab": {
          "base_uri": "https://localhost:8080/"
        },
        "id": "zGQV9-Swhlqk",
        "outputId": "8b148736-16f9-49e2-93f3-1f4baedef9b9"
      },
      "execution_count": 8,
      "outputs": [
        {
          "output_type": "execute_result",
          "data": {
            "text/plain": [
              "(4056898, 26)"
            ]
          },
          "metadata": {},
          "execution_count": 8
        }
      ]
    },
    {
      "cell_type": "markdown",
      "source": [
        "data memiliki 4056898 baris data dan 26 kolom. Berdasarkan jumlah baris dan kolom nya data ini termasuk data yang cukup besar."
      ],
      "metadata": {
        "id": "P7PGzKofmhLd"
      }
    },
    {
      "cell_type": "code",
      "source": [
        "# Menghitung jumlah data hilang pada data train\n",
        "print(train_df.isnull().sum())"
      ],
      "metadata": {
        "colab": {
          "base_uri": "https://localhost:8080/"
        },
        "id": "PQnyWtnrtQ6Z",
        "outputId": "78114ee0-b0d5-4310-d13e-29b5d3e1c247"
      },
      "execution_count": 9,
      "outputs": [
        {
          "output_type": "stream",
          "name": "stdout",
          "text": [
            "PSTV01              0\n",
            "PSTV02              0\n",
            "PSTV15              0\n",
            "FKP02               0\n",
            "FKP03               0\n",
            "FKP04               0\n",
            "FKP05               0\n",
            "FKP06               0\n",
            "FKP07               0\n",
            "FKP08               0\n",
            "FKP09               0\n",
            "FKP10               0\n",
            "FKP11               1\n",
            "FKP12               0\n",
            "FKP14               0\n",
            "FKP14A        1380241\n",
            "FKP15               0\n",
            "FKP15A              0\n",
            "FKP16               0\n",
            "FKP17               0\n",
            "FKP18               0\n",
            "FKP19               0\n",
            "FKP20               0\n",
            "FKP21               0\n",
            "FKP22               0\n",
            "FKP13Class          0\n",
            "dtype: int64\n"
          ]
        }
      ]
    },
    {
      "cell_type": "code",
      "source": [
        "# Menghitung jumlah data hilang pada data test\n",
        "print(test_df.isnull().sum())"
      ],
      "metadata": {
        "colab": {
          "base_uri": "https://localhost:8080/"
        },
        "id": "tMctveQutUL4",
        "outputId": "96388ac4-7042-40bd-98e9-372bd7c12108"
      },
      "execution_count": 10,
      "outputs": [
        {
          "output_type": "stream",
          "name": "stdout",
          "text": [
            "PSTV01              0\n",
            "PSTV02              0\n",
            "PSTV15              0\n",
            "FKP02               0\n",
            "FKP03               0\n",
            "FKP04               0\n",
            "FKP05               0\n",
            "FKP06               0\n",
            "FKP07               0\n",
            "FKP08               0\n",
            "FKP09               0\n",
            "FKP10               0\n",
            "FKP11               0\n",
            "FKP12               0\n",
            "FKP14               0\n",
            "FKP14A         345912\n",
            "FKP15               0\n",
            "FKP15A              0\n",
            "FKP16               0\n",
            "FKP17               0\n",
            "FKP18               0\n",
            "FKP19               0\n",
            "FKP20               0\n",
            "FKP21               0\n",
            "FKP22               0\n",
            "FKP13Class    1014225\n",
            "dtype: int64\n"
          ]
        }
      ]
    },
    {
      "cell_type": "markdown",
      "source": [
        "pada kedua data train dan test terdapat missing data yang cukup banyak pada kolom `FKP14A`. Jika mengacu pada metadata, kolom tersebut berisi kode diagnosis ICD 10. Karena kolom ini mengandung missing data sangat banyak, maka kolom ini dapat dihapus saja. Sedangkan pada `FKP11` hanya terdapat 1 baris missing data, sehingga yang perlu dihapus hanya baris tersebut saja. Pada data train terlihat pada kolom `FKP13Class` keeseluruhan berisi missing data, hal ini karena kolom tersebut lah yang akan diprediksi dan kemudian dikumpulkan dalam file submission."
      ],
      "metadata": {
        "id": "vx-pql8Huogy"
      }
    },
    {
      "cell_type": "code",
      "source": [
        "# Melihat distribusi pada kolom FKP13Class sebagai variabel dependen\n",
        "distribusi_kelas = train_df['FKP13Class'].value_counts()\n",
        "plt.figure(figsize=(6, 4))\n",
        "distribusi_kelas.plot(kind='bar')\n",
        "plt.xlabel('Kolom')\n",
        "plt.ylabel('Banyak kelas')\n",
        "plt.title('Visualisasi Banyaknya anggota kelas')\n",
        "plt.xticks(rotation=0)\n",
        "plt.show()\n"
      ],
      "metadata": {
        "colab": {
          "base_uri": "https://localhost:8080/",
          "height": 410
        },
        "id": "-bpbIwgbyTnV",
        "outputId": "edfb7545-98a1-408b-a829-dba6f2dc0212"
      },
      "execution_count": 11,
      "outputs": [
        {
          "output_type": "display_data",
          "data": {
            "text/plain": [
              "<Figure size 600x400 with 1 Axes>"
            ],
            "image/png": "[encoded data removed]"
          },
          "metadata": {}
        }
      ]
    },
    {
      "cell_type": "markdown",
      "source": [
        "perhatikan bahwa banyak data pada kelas target (variabel dependen) tidak seimbang. Data dengan kelas \"belum sehat\" lebih banyak dibanding kelas \"sehat\". Ketidakseimbangan ini dapat menyebabkan masalah dalam pemodelan dan menghasilkan prediksi yang bias terhadap kelas mayoritas. Oleh karena itu perlu dilakukan langkah-langkah dalam mengatasi masalah dataset tidak seimbang ini pada preprocessing data. Terdapat beberapa cara diantaranya resampling, pembobotan, penggabungan, generasi sampel buatan, dan lain-lain. Pilihan metode yang tepat akan tergantung pada dataset dan masalah yang spesifik yang paling cocok untuk kasus Anda. Pada kasus ini kami akan menggunakan metode resampling undersampling dengan mengurangi jumlah sampel kelas mayoritas menjadi sama dengan kelas minoritas."
      ],
      "metadata": {
        "id": "lg10rVwwUKK2"
      }
    },
    {
      "cell_type": "markdown",
      "source": [
        "# Data Preprocessing\n",
        "\n",
        "\n",
        "Data preprocessing adalah proses persiapan data sebelum dilakukan analisis atau pemodelan. Tujuan dari data preprocessing adalah untuk mengubah data mentah menjadi data yang siap digunakan. Berberapa teknik yang sering digunakan adalah cleaning, integration, transformation, dan reduction."
      ],
      "metadata": {
        "id": "qM-bQ3fWsG-b"
      }
    },
    {
      "cell_type": "code",
      "source": [
        "# Menghapus missing data pada kolom FKP11 di train df\n",
        "train_df = train_df.dropna(subset=['FKP11'])\n"
      ],
      "metadata": {
        "id": "qDyp0DZIpqXd"
      },
      "execution_count": 12,
      "outputs": []
    },
    {
      "cell_type": "code",
      "source": [
        "# Membuang kolom yang tidak penting\n",
        "def remove_columns(df):\n",
        "  removed_column = ['PSTV01', 'PSTV02', 'FKP02', 'FKP14A', 'FKP15', 'FKP15A']\n",
        "  df = df.drop(removed_column, axis = 1)\n",
        "  return df\n",
        "\n",
        "train_df = remove_columns(train_df)\n",
        "test_df = remove_columns(test_df)"
      ],
      "metadata": {
        "id": "LcGpjF7hxFSk"
      },
      "execution_count": 13,
      "outputs": []
    },
    {
      "cell_type": "markdown",
      "source": [
        "terdapat beberapa kolom yang dihapus diantaranya `FKP14A` karena pada EDA sebelumnya menunjukkan banyak missing values. Kolom `PSTV01` `PSTV02` dan `FKP02` pada metadata menunjukkan nomor peserta, nomor keluarga dan ID kunjungan yang memuat nilai unique sehingga lebih baik dihapus saja. `FKP15` dan `FKP15A` juga dihapus karena tipe datanya tidak numerik."
      ],
      "metadata": {
        "id": "K1zSBwSmYLwa"
      }
    },
    {
      "cell_type": "code",
      "execution_count": 14,
      "metadata": {
        "id": "EWF38qt1xLyJ"
      },
      "outputs": [],
      "source": [
        "# Menghitung lama inap pasien\n",
        "def lama_inap(df):\n",
        "  df[['FKP03','FKP04']] = df[['FKP03','FKP04']].apply(lambda x: pd.to_datetime(x, format='%Y-%m-%d %H:%M:%S.%f'))\n",
        "  df[\"lama_inap\"] = (df['FKP04'] - df['FKP03']) / np.timedelta64(1, \"D\")\n",
        "  df = df.drop(['FKP03', 'FKP04'], axis = 1)\n",
        "  return df\n",
        "\n",
        "train_df = lama_inap(train_df)\n",
        "test_df = lama_inap(test_df)"
      ]
    },
    {
      "cell_type": "markdown",
      "source": [
        "penambahan kolom `lama_inap` adalah bagian dari feature engineering dengan memanipulasi kolom `FKP03` dan `FKP04` yaitu tanggal datang dan tanggal keluar dengan tujuan mendapatkan fitur baru `lama_inap` yang mungkin lebih relevan dan informatif."
      ],
      "metadata": {
        "id": "uUwEHYJucYIP"
      }
    },
    {
      "cell_type": "markdown",
      "source": [
        "# Label Binarizer\n",
        "\n",
        "Pada perintah pengumpulan hasil submission, status pasien diminta bernilai 1 untuk pasien \"sembuh\" dan 0 untuk pasien \"belum sembuh\". Oleh karena itu perlu dilakukan binarizer pada kolom `FKP13Class` untuk mengubah nilainya menjadi 0 dan 1."
      ],
      "metadata": {
        "id": "IOD5XNSFddxk"
      }
    },
    {
      "cell_type": "code",
      "source": [
        "# import modul labelbinarizer\n",
        "from sklearn.preprocessing import LabelBinarizer\n",
        "\n",
        "# membuat dan fit transform label binarizer\n",
        "lb = LabelBinarizer()\n",
        "train_df['FKP13Class'] = np.array(lb.fit_transform(train_df[\"FKP13Class\"]))"
      ],
      "metadata": {
        "id": "R8kOHZUWwHxU"
      },
      "execution_count": 15,
      "outputs": []
    },
    {
      "cell_type": "code",
      "source": [
        "# Cek apakah binarizer sudah tepat\n",
        "print(\"1 :\", lb.inverse_transform(np.array(1)))\n",
        "print(\"0 :\", lb.inverse_transform(np.array(0)))"
      ],
      "metadata": {
        "colab": {
          "base_uri": "https://localhost:8080/"
        },
        "id": "naM0woiDesLB",
        "outputId": "c67eaddf-6a62-4a48-8e6b-4471589a76e6"
      },
      "execution_count": 16,
      "outputs": [
        {
          "output_type": "stream",
          "name": "stdout",
          "text": [
            "1 : ['Sehat']\n",
            "0 : ['Belum_Sehat']\n"
          ]
        }
      ]
    },
    {
      "cell_type": "markdown",
      "source": [
        "bisa dilihat bahwa hasil binarizer nya sudah tepat dan dapat dilakukan pengolahan lebih lanjut."
      ],
      "metadata": {
        "id": "_gSsiur1gYnd"
      }
    },
    {
      "cell_type": "markdown",
      "source": [
        "# Mengatasi data tidak seimbang dengan undersampling\n",
        "\n",
        "Berdasarkan hasil EDA sebelumnya menunjukkan bahwa variabel dependen memiliki kelas yang tidak seimbang yang perlu diatasi. Kami menggunakan Undersampling dengan beberapa pertimbangan diantaranya\n",
        "\n",
        "- bertujuan mengurangi overfitting yang dikarenakan kelas mayoritas\n",
        "- efisiensi komputasional dengan mengurangi jumlah sampel yang sangat besar\n",
        "\n",
        "harap diperhatikan juga bahwa undersampling memiliki kelemahan yang disebabkan pengurangan jumlah sampel kelas mayoritas. Kita berpotensi kehilangan sebagian informasi dari kelas mayoritas yang dapat mempengaruhi kemampuan model dalam mempelajari pola yang mungkin ada dalam kelas tersebut. Namun harapannya hal tersebut tidak terjadi karena ukuran dataset yang sudah sangat besar sebanyak lebih dari 4 juta baris."
      ],
      "metadata": {
        "id": "hQfAZhmW20yP"
      }
    },
    {
      "cell_type": "code",
      "execution_count": 17,
      "metadata": {
        "id": "nh_QZvzfG4xt"
      },
      "outputs": [],
      "source": [
        "# Pisahkan variabel independen dan dependen terlebih dahulu\n",
        "y = np.array(train_df[\"FKP13Class\"])\n",
        "X = np.array(train_df.drop(\"FKP13Class\", axis = 1))"
      ]
    },
    {
      "cell_type": "code",
      "execution_count": 18,
      "metadata": {
        "id": "dr9pGV_8GtZC"
      },
      "outputs": [],
      "source": [
        "# Undersampling\n",
        "from imblearn.under_sampling import RandomUnderSampler\n",
        "undersample = RandomUnderSampler(sampling_strategy = 'majority', random_state=2022)\n",
        "\n",
        "X_under, y_under = undersample.fit_resample(X, y)"
      ]
    },
    {
      "cell_type": "code",
      "source": [
        "# Melihat ukuran kelas setelah undersampling\n",
        "print(np.unique(y_under, return_counts=True)[1])"
      ],
      "metadata": {
        "colab": {
          "base_uri": "https://localhost:8080/"
        },
        "id": "cfRNOn09jReD",
        "outputId": "0d36c086-721b-4055-e01f-f3913ae5f2f3"
      },
      "execution_count": 19,
      "outputs": [
        {
          "output_type": "stream",
          "name": "stdout",
          "text": [
            "[1422386 1422386]\n"
          ]
        }
      ]
    },
    {
      "cell_type": "markdown",
      "source": [
        "dapat dilihat setelah undersampling data variabel dependen antar kelas sudah seimbang."
      ],
      "metadata": {
        "id": "G5UVDeNljo52"
      }
    },
    {
      "cell_type": "markdown",
      "metadata": {
        "id": "O5j-2NS8JHnT"
      },
      "source": [
        "# Membuat dan Train model\n",
        "\n",
        "Sebelum membuat model, perlu dilakukan pembagian data menjadi train dan test. Tujuannya adalah agar dapat melakukan evaluasi terhadap kinerja model, melihat overfit dan underfit, dan banyak manfaat lainnya. Karena pada dataset sudah disediakan data test untuk submission, maka selanjutnya data hasil pembagian ini disebut validation data untuk menghindari ambiguitas dan multitafsir."
      ]
    },
    {
      "cell_type": "code",
      "execution_count": 20,
      "metadata": {
        "id": "jXBtFjBlFgIr"
      },
      "outputs": [],
      "source": [
        "# Import module train_test_split untuk membagi data train dan test\n",
        "from sklearn.model_selection import train_test_split\n",
        "\n",
        "# Membagi dataset menjadi train dan valid dengan ukuran 80 : 20\n",
        "X_train, X_valid, y_train, y_valid = train_test_split(X_under, y_under, test_size=0.2)"
      ]
    },
    {
      "cell_type": "markdown",
      "source": [
        "**RANDOM FOREST**\n",
        "\n",
        "`Random Forest` adalah sebuah algoritma machine yang sangat populer dan efektif. Algoritma ini menggunakan konsep ensemble learning, di mana beberapa model `Decision Tree` digabungkan menjadi satu model yang lebih kuat. Prediksi akhir dalam Random Forest diperoleh dengan menggabungkan hasil dari semua pohon dalam ensemble. Untuk tugas klasifikasi, hasil prediksi akhir didasarkan pada mayoritas suara kelas yang diperoleh dari semua pohon. Kelebihan Random Forest termasuk kemampuannya dalam mengatasi overfitting, robust terhadap variabel yang tidak relevan dan noise dalam data, serta kemampuannya untuk menghasilkan pentingnya fitur (feature importance). Dengan demikian, Random Forest merupakan algoritma yang sangat berguna dan dapat diandalkan dalam berbagai jenis tugas pembelajaran mesin. Kelemahan model ini adalah performanya cukup lambat dan proses training lumayan lama dibanding `Decision Tree`, `Logistic Regression`, dll.\n",
        "\n",
        "\n",
        "Untuk membuat model `Random Forest` di Python dapat menggunakan library `Scikit Learn`."
      ],
      "metadata": {
        "id": "Y7UGgZyV5_LH"
      }
    },
    {
      "cell_type": "code",
      "execution_count": 21,
      "metadata": {
        "colab": {
          "base_uri": "https://localhost:8080/",
          "height": 129
        },
        "id": "-D67-i8eJGrg",
        "outputId": "5f3beaa5-87df-4c78-8bac-a962246a5f2f"
      },
      "outputs": [
        {
          "output_type": "stream",
          "name": "stderr",
          "text": [
            "/usr/local/lib/python3.10/dist-packages/sklearn/ensemble/_forest.py:424: FutureWarning: `max_features='auto'` has been deprecated in 1.1 and will be removed in 1.3. To keep the past behaviour, explicitly set `max_features='sqrt'` or remove this parameter as it is also the default value for RandomForestClassifiers and ExtraTreesClassifiers.\n",
            "  warn(\n"
          ]
        },
        {
          "output_type": "execute_result",
          "data": {
            "text/plain": [
              "RandomForestClassifier(max_features='auto', n_estimators=50, random_state=1)"
            ],
            "text/html": [
              "<style>#sk-container-id-1 {color: black;background-color: white;}#sk-container-id-1 pre{padding: 0;}#sk-container-id-1 div.sk-toggleable {background-color: white;}#sk-container-id-1 label.sk-toggleable__label {cursor: pointer;display: block;width: 100%;margin-bottom: 0;padding: 0.3em;box-sizing: border-box;text-align: center;}#sk-container-id-1 label.sk-toggleable__label-arrow:before {content: \"▸\";float: left;margin-right: 0.25em;color: #696969;}#sk-container-id-1 label.sk-toggleable__label-arrow:hover:before {color: black;}#sk-container-id-1 div.sk-estimator:hover label.sk-toggleable__label-arrow:before {color: black;}#sk-container-id-1 div.sk-toggleable__content {max-height: 0;max-width: 0;overflow: hidden;text-align: left;background-color: #f0f8ff;}#sk-container-id-1 div.sk-toggleable__content pre {margin: 0.2em;color: black;border-radius: 0.25em;background-color: #f0f8ff;}#sk-container-id-1 input.sk-toggleable__control:checked~div.sk-toggleable__content {max-height: 200px;max-width: 100%;overflow: auto;}#sk-container-id-1 input.sk-toggleable__control:checked~label.sk-toggleable__label-arrow:before {content: \"▾\";}#sk-container-id-1 div.sk-estimator input.sk-toggleable__control:checked~label.sk-toggleable__label {background-color: #d4ebff;}#sk-container-id-1 div.sk-label input.sk-toggleable__control:checked~label.sk-toggleable__label {background-color: #d4ebff;}#sk-container-id-1 input.sk-hidden--visually {border: 0;clip: rect(1px 1px 1px 1px);clip: rect(1px, 1px, 1px, 1px);height: 1px;margin: -1px;overflow: hidden;padding: 0;position: absolute;width: 1px;}#sk-container-id-1 div.sk-estimator {font-family: monospace;background-color: #f0f8ff;border: 1px dotted black;border-radius: 0.25em;box-sizing: border-box;margin-bottom: 0.5em;}#sk-container-id-1 div.sk-estimator:hover {background-color: #d4ebff;}#sk-container-id-1 div.sk-parallel-item::after {content: \"\";width: 100%;border-bottom: 1px solid gray;flex-grow: 1;}#sk-container-id-1 div.sk-label:hover label.sk-toggleable__label {background-color: #d4ebff;}#sk-container-id-1 div.sk-serial::before {content: \"\";position: absolute;border-left: 1px solid gray;box-sizing: border-box;top: 0;bottom: 0;left: 50%;z-index: 0;}#sk-container-id-1 div.sk-serial {display: flex;flex-direction: column;align-items: center;background-color: white;padding-right: 0.2em;padding-left: 0.2em;position: relative;}#sk-container-id-1 div.sk-item {position: relative;z-index: 1;}#sk-container-id-1 div.sk-parallel {display: flex;align-items: stretch;justify-content: center;background-color: white;position: relative;}#sk-container-id-1 div.sk-item::before, #sk-container-id-1 div.sk-parallel-item::before {content: \"\";position: absolute;border-left: 1px solid gray;box-sizing: border-box;top: 0;bottom: 0;left: 50%;z-index: -1;}#sk-container-id-1 div.sk-parallel-item {display: flex;flex-direction: column;z-index: 1;position: relative;background-color: white;}#sk-container-id-1 div.sk-parallel-item:first-child::after {align-self: flex-end;width: 50%;}#sk-container-id-1 div.sk-parallel-item:last-child::after {align-self: flex-start;width: 50%;}#sk-container-id-1 div.sk-parallel-item:only-child::after {width: 0;}#sk-container-id-1 div.sk-dashed-wrapped {border: 1px dashed gray;margin: 0 0.4em 0.5em 0.4em;box-sizing: border-box;padding-bottom: 0.4em;background-color: white;}#sk-container-id-1 div.sk-label label {font-family: monospace;font-weight: bold;display: inline-block;line-height: 1.2em;}#sk-container-id-1 div.sk-label-container {text-align: center;}#sk-container-id-1 div.sk-container {/* jupyter's `normalize.less` sets `[hidden] { display: none; }` but bootstrap.min.css set `[hidden] { display: none !important; }` so we also need the `!important` here to be able to override the default hidden behavior on the sphinx rendered scikit-learn.org. See: https://github.com/scikit-learn/scikit-learn/issues/21755 */display: inline-block !important;position: relative;}#sk-container-id-1 div.sk-text-repr-fallback {display: none;}</style><div id=\"sk-container-id-1\" class=\"sk-top-container\"><div class=\"sk-text-repr-fallback\"><pre>RandomForestClassifier(max_features=&#x27;auto&#x27;, n_estimators=50, random_state=1)</pre><b>In a Jupyter environment, please rerun this cell to show the HTML representation or trust the notebook. <br />On GitHub, the HTML representation is unable to render, please try loading this page with nbviewer.org.</b></div><div class=\"sk-container\" hidden><div class=\"sk-item\"><div class=\"sk-estimator sk-toggleable\"><input class=\"sk-toggleable__control sk-hidden--visually\" id=\"sk-estimator-id-1\" type=\"checkbox\" checked><label for=\"sk-estimator-id-1\" class=\"sk-toggleable__label sk-toggleable__label-arrow\">RandomForestClassifier</label><div class=\"sk-toggleable__content\"><pre>RandomForestClassifier(max_features=&#x27;auto&#x27;, n_estimators=50, random_state=1)</pre></div></div></div></div></div>"
            ]
          },
          "metadata": {},
          "execution_count": 21
        }
      ],
      "source": [
        "# Import modul RandomForestClassifier\n",
        "from sklearn.ensemble import RandomForestClassifier\n",
        "\n",
        "# Membuat model\n",
        "rf_model = RandomForestClassifier(n_estimators=50, max_features=\"auto\", random_state=1)\n",
        "rf_model.fit(X_train, y_train)  # train model"
      ]
    },
    {
      "cell_type": "code",
      "execution_count": 22,
      "metadata": {
        "colab": {
          "base_uri": "https://localhost:8080/"
        },
        "id": "wrheFMCiKIlW",
        "outputId": "b5485776-3532-4331-8b38-293c85247e73"
      },
      "outputs": [
        {
          "output_type": "execute_result",
          "data": {
            "text/plain": [
              "array([0, 1, 0, ..., 1, 0, 0])"
            ]
          },
          "metadata": {},
          "execution_count": 22
        }
      ],
      "source": [
        "# Melakan prediksi menggunakan data validation untuk evaluasi model\n",
        "y_pred_valid = rf_model.predict(X_valid)\n",
        "y_pred_valid"
      ]
    },
    {
      "cell_type": "code",
      "execution_count": 23,
      "metadata": {
        "colab": {
          "base_uri": "https://localhost:8080/"
        },
        "id": "EzIShYJSKShD",
        "outputId": "f3723c3c-99ff-45f4-8f4a-9f29d5557065"
      },
      "outputs": [
        {
          "output_type": "stream",
          "name": "stdout",
          "text": [
            "              precision    recall  f1-score   support\n",
            "\n",
            "           0  0.99660170 0.99769449 0.99714779    284536\n",
            "           1  0.99769101 0.99659657 0.99714349    284419\n",
            "\n",
            "    accuracy                      0.99714564    568955\n",
            "   macro avg  0.99714635 0.99714553 0.99714564    568955\n",
            "weighted avg  0.99714624 0.99714564 0.99714564    568955\n",
            "\n"
          ]
        }
      ],
      "source": [
        "# Import modul untuk evaluasi model\n",
        "from sklearn.metrics import classification_report\n",
        "\n",
        "# Melihat classification report\n",
        "print(classification_report(y_valid, y_pred_valid, digits=8))"
      ]
    },
    {
      "cell_type": "markdown",
      "source": [
        "dari report diatas dapat dilihat metriks `precision`, `recall`, `f1-score`, `support` dan `accuracy`. Pengukuran yang dilakukan oleh juri BDC yang tercantum dalam panduannya adalah f1-score sehingga kita fokus pada f1-score pada kelas 1 yaitu 99.708276 %. Sehingga berdasarkan evaluasi tersebut menunjukkan bahwa model yang sudah dibuat memiliki kemampuan yang baik untuk memprediksi hasil klasifikasi dan model ini sudah bisa digunakan untuk prediksi data test untuk submission."
      ],
      "metadata": {
        "id": "lnurgvcg2Z0i"
      }
    },
    {
      "cell_type": "markdown",
      "source": [
        "# Ekspor file submission \n",
        "\n",
        "Peserta BDC diminta mengumpulkan hasil prediksi kelas status pulang peserta untuk data test kemudian dimasukkan dalam file `submission.csv`. File `.csv` ini yang kemudian dikumpulkan ke website satria data.\n"
      ],
      "metadata": {
        "id": "2P7NlG2WJLV0"
      }
    },
    {
      "cell_type": "code",
      "source": [
        "# Mengambil data test dengan menghapus kolom FKP13Class\n",
        "X_test = np.array(test_df.drop('FKP13Class', axis = 1))\n",
        "\n",
        "# Melakukan prediksi\n",
        "y_pred = rf_model.predict(X_test)\n",
        "y_pred"
      ],
      "metadata": {
        "colab": {
          "base_uri": "https://localhost:8080/"
        },
        "id": "rQHgXi1JJXQU",
        "outputId": "620f57b2-af63-4ed0-c9ac-382ef2240513"
      },
      "execution_count": 24,
      "outputs": [
        {
          "output_type": "execute_result",
          "data": {
            "text/plain": [
              "array([1, 1, 1, ..., 0, 0, 0])"
            ]
          },
          "metadata": {},
          "execution_count": 24
        }
      ]
    },
    {
      "cell_type": "code",
      "source": [
        "# Memasukkan hasil prediksi ke dalam tabel submission\n",
        "submission[\"Status\"] = y_pred\n",
        "submission"
      ],
      "metadata": {
        "colab": {
          "base_uri": "https://localhost:8080/",
          "height": 424
        },
        "id": "jj8J1js-PuSG",
        "outputId": "f00f8eaa-b125-442e-cc53-96b15ca2496f"
      },
      "execution_count": 25,
      "outputs": [
        {
          "output_type": "execute_result",
          "data": {
            "text/plain": [
              "                             FKP02  Status\n",
              "0              1         954386050       1\n",
              "1              2         774246805       1\n",
              "2              3        1202010273       1\n",
              "3              4        1286640248       1\n",
              "4              5        1285179242       1\n",
              "...          ...               ...     ...\n",
              "1014220  1014221  248870919P000406       0\n",
              "1014221  1014222  116000620P000034       0\n",
              "1014222  1014223  160421019P000631       0\n",
              "1014223  1014224  332670919P000083       0\n",
              "1014224  1014225  106050119Y000587       0\n",
              "\n",
              "[1014225 rows x 3 columns]"
            ],
            "text/html": [
              "\n",
              "  <div id=\"df-3d5de53e-37af-43bf-86ba-8c19841f908b\">\n",
              "    <div class=\"colab-df-container\">\n",
              "      <div>\n",
              "<style scoped>\n",
              "    .dataframe tbody tr th:only-of-type {\n",
              "        vertical-align: middle;\n",
              "    }\n",
              "\n",
              "    .dataframe tbody tr th {\n",
              "        vertical-align: top;\n",
              "    }\n",
              "\n",
              "    .dataframe thead th {\n",
              "        text-align: right;\n",
              "    }\n",
              "</style>\n",
              "<table border=\"1\" class=\"dataframe\">\n",
              "  <thead>\n",
              "    <tr style=\"text-align: right;\">\n",
              "      <th></th>\n",
              "      <th></th>\n",
              "      <th>FKP02</th>\n",
              "      <th>Status</th>\n",
              "    </tr>\n",
              "  </thead>\n",
              "  <tbody>\n",
              "    <tr>\n",
              "      <th>0</th>\n",
              "      <td>1</td>\n",
              "      <td>954386050</td>\n",
              "      <td>1</td>\n",
              "    </tr>\n",
              "    <tr>\n",
              "      <th>1</th>\n",
              "      <td>2</td>\n",
              "      <td>774246805</td>\n",
              "      <td>1</td>\n",
              "    </tr>\n",
              "    <tr>\n",
              "      <th>2</th>\n",
              "      <td>3</td>\n",
              "      <td>1202010273</td>\n",
              "      <td>1</td>\n",
              "    </tr>\n",
              "    <tr>\n",
              "      <th>3</th>\n",
              "      <td>4</td>\n",
              "      <td>1286640248</td>\n",
              "      <td>1</td>\n",
              "    </tr>\n",
              "    <tr>\n",
              "      <th>4</th>\n",
              "      <td>5</td>\n",
              "      <td>1285179242</td>\n",
              "      <td>1</td>\n",
              "    </tr>\n",
              "    <tr>\n",
              "      <th>...</th>\n",
              "      <td>...</td>\n",
              "      <td>...</td>\n",
              "      <td>...</td>\n",
              "    </tr>\n",
              "    <tr>\n",
              "      <th>1014220</th>\n",
              "      <td>1014221</td>\n",
              "      <td>248870919P000406</td>\n",
              "      <td>0</td>\n",
              "    </tr>\n",
              "    <tr>\n",
              "      <th>1014221</th>\n",
              "      <td>1014222</td>\n",
              "      <td>116000620P000034</td>\n",
              "      <td>0</td>\n",
              "    </tr>\n",
              "    <tr>\n",
              "      <th>1014222</th>\n",
              "      <td>1014223</td>\n",
              "      <td>160421019P000631</td>\n",
              "      <td>0</td>\n",
              "    </tr>\n",
              "    <tr>\n",
              "      <th>1014223</th>\n",
              "      <td>1014224</td>\n",
              "      <td>332670919P000083</td>\n",
              "      <td>0</td>\n",
              "    </tr>\n",
              "    <tr>\n",
              "      <th>1014224</th>\n",
              "      <td>1014225</td>\n",
              "      <td>106050119Y000587</td>\n",
              "      <td>0</td>\n",
              "    </tr>\n",
              "  </tbody>\n",
              "</table>\n",
              "<p>1014225 rows × 3 columns</p>\n",
              "</div>\n",
              "      <button class=\"colab-df-convert\" onclick=\"convertToInteractive('df-3d5de53e-37af-43bf-86ba-8c19841f908b')\"\n",
              "              title=\"Convert this dataframe to an interactive table.\"\n",
              "              style=\"display:none;\">\n",
              "        \n",
              "  <svg xmlns=\"http://www.w3.org/2000/svg\" height=\"24px\"viewBox=\"0 0 24 24\"\n",
              "       width=\"24px\">\n",
              "    <path d=\"M0 0h24v24H0V0z\" fill=\"none\"/>\n",
              "    <path d=\"M18.56 5.44l.94 2.06.94-2.06 2.06-.94-2.06-.94-.94-2.06-.94 2.06-2.06.94zm-11 1L8.5 8.5l.94-2.06 2.06-.94-2.06-.94L8.5 2.5l-.94 2.06-2.06.94zm10 10l.94 2.06.94-2.06 2.06-.94-2.06-.94-.94-2.06-.94 2.06-2.06.94z\"/><path d=\"M17.41 7.96l-1.37-1.37c-.4-.4-.92-.59-1.43-.59-.52 0-1.04.2-1.43.59L10.3 9.45l-7.72 7.72c-.78.78-.78 2.05 0 2.83L4 21.41c.39.39.9.59 1.41.59.51 0 1.02-.2 1.41-.59l7.78-7.78 2.81-2.81c.8-.78.8-2.07 0-2.86zM5.41 20L4 18.59l7.72-7.72 1.47 1.35L5.41 20z\"/>\n",
              "  </svg>\n",
              "      </button>\n",
              "      \n",
              "  <style>\n",
              "    .colab-df-container {\n",
              "      display:flex;\n",
              "      flex-wrap:wrap;\n",
              "      gap: 12px;\n",
              "    }\n",
              "\n",
              "    .colab-df-convert {\n",
              "      background-color: #E8F0FE;\n",
              "      border: none;\n",
              "      border-radius: 50%;\n",
              "      cursor: pointer;\n",
              "      display: none;\n",
              "      fill: #1967D2;\n",
              "      height: 32px;\n",
              "      padding: 0 0 0 0;\n",
              "      width: 32px;\n",
              "    }\n",
              "\n",
              "    .colab-df-convert:hover {\n",
              "      background-color: #E2EBFA;\n",
              "      box-shadow: 0px 1px 2px rgba(60, 64, 67, 0.3), 0px 1px 3px 1px rgba(60, 64, 67, 0.15);\n",
              "      fill: #174EA6;\n",
              "    }\n",
              "\n",
              "    [theme=dark] .colab-df-convert {\n",
              "      background-color: #3B4455;\n",
              "      fill: #D2E3FC;\n",
              "    }\n",
              "\n",
              "    [theme=dark] .colab-df-convert:hover {\n",
              "      background-color: #434B5C;\n",
              "      box-shadow: 0px 1px 3px 1px rgba(0, 0, 0, 0.15);\n",
              "      filter: drop-shadow(0px 1px 2px rgba(0, 0, 0, 0.3));\n",
              "      fill: #FFFFFF;\n",
              "    }\n",
              "  </style>\n",
              "\n",
              "      <script>\n",
              "        const buttonEl =\n",
              "          document.querySelector('#df-3d5de53e-37af-43bf-86ba-8c19841f908b button.colab-df-convert');\n",
              "        buttonEl.style.display =\n",
              "          google.colab.kernel.accessAllowed ? 'block' : 'none';\n",
              "\n",
              "        async function convertToInteractive(key) {\n",
              "          const element = document.querySelector('#df-3d5de53e-37af-43bf-86ba-8c19841f908b');\n",
              "          const dataTable =\n",
              "            await google.colab.kernel.invokeFunction('convertToInteractive',\n",
              "                                                     [key], {});\n",
              "          if (!dataTable) return;\n",
              "\n",
              "          const docLinkHtml = 'Like what you see? Visit the ' +\n",
              "            '<a target=\"_blank\" href=https://colab.research.google.com/notebooks/data_table.ipynb>data table notebook</a>'\n",
              "            + ' to learn more about interactive tables.';\n",
              "          element.innerHTML = '';\n",
              "          dataTable['output_type'] = 'display_data';\n",
              "          await google.colab.output.renderOutput(dataTable, element);\n",
              "          const docLink = document.createElement('div');\n",
              "          docLink.innerHTML = docLinkHtml;\n",
              "          element.appendChild(docLink);\n",
              "        }\n",
              "      </script>\n",
              "    </div>\n",
              "  </div>\n",
              "  "
            ]
          },
          "metadata": {},
          "execution_count": 25
        }
      ]
    },
    {
      "cell_type": "code",
      "source": [
        "# Menyesuaikan submission dengan format yang diminta\n",
        "submission[\"\"] = submission[\"\"].apply(lambda x: \"\" + str(x) + \"\")\n",
        "submission[\"FKP02\"] = submission[\"FKP02\"].apply(lambda x: \"\" + str(x) + \"\")\n",
        "submission"
      ],
      "metadata": {
        "colab": {
          "base_uri": "https://localhost:8080/",
          "height": 424
        },
        "id": "SQuN5S33XrY1",
        "outputId": "3ae72131-0436-4f31-b5c8-81f556f90590"
      },
      "execution_count": 26,
      "outputs": [
        {
          "output_type": "execute_result",
          "data": {
            "text/plain": [
              "                             FKP02  Status\n",
              "0              1         954386050       1\n",
              "1              2         774246805       1\n",
              "2              3        1202010273       1\n",
              "3              4        1286640248       1\n",
              "4              5        1285179242       1\n",
              "...          ...               ...     ...\n",
              "1014220  1014221  248870919P000406       0\n",
              "1014221  1014222  116000620P000034       0\n",
              "1014222  1014223  160421019P000631       0\n",
              "1014223  1014224  332670919P000083       0\n",
              "1014224  1014225  106050119Y000587       0\n",
              "\n",
              "[1014225 rows x 3 columns]"
            ],
            "text/html": [
              "\n",
              "  <div id=\"df-8a1bc1ab-afa2-471d-820d-f26473aa612b\">\n",
              "    <div class=\"colab-df-container\">\n",
              "      <div>\n",
              "<style scoped>\n",
              "    .dataframe tbody tr th:only-of-type {\n",
              "        vertical-align: middle;\n",
              "    }\n",
              "\n",
              "    .dataframe tbody tr th {\n",
              "        vertical-align: top;\n",
              "    }\n",
              "\n",
              "    .dataframe thead th {\n",
              "        text-align: right;\n",
              "    }\n",
              "</style>\n",
              "<table border=\"1\" class=\"dataframe\">\n",
              "  <thead>\n",
              "    <tr style=\"text-align: right;\">\n",
              "      <th></th>\n",
              "      <th></th>\n",
              "      <th>FKP02</th>\n",
              "      <th>Status</th>\n",
              "    </tr>\n",
              "  </thead>\n",
              "  <tbody>\n",
              "    <tr>\n",
              "      <th>0</th>\n",
              "      <td>1</td>\n",
              "      <td>954386050</td>\n",
              "      <td>1</td>\n",
              "    </tr>\n",
              "    <tr>\n",
              "      <th>1</th>\n",
              "      <td>2</td>\n",
              "      <td>774246805</td>\n",
              "      <td>1</td>\n",
              "    </tr>\n",
              "    <tr>\n",
              "      <th>2</th>\n",
              "      <td>3</td>\n",
              "      <td>1202010273</td>\n",
              "      <td>1</td>\n",
              "    </tr>\n",
              "    <tr>\n",
              "      <th>3</th>\n",
              "      <td>4</td>\n",
              "      <td>1286640248</td>\n",
              "      <td>1</td>\n",
              "    </tr>\n",
              "    <tr>\n",
              "      <th>4</th>\n",
              "      <td>5</td>\n",
              "      <td>1285179242</td>\n",
              "      <td>1</td>\n",
              "    </tr>\n",
              "    <tr>\n",
              "      <th>...</th>\n",
              "      <td>...</td>\n",
              "      <td>...</td>\n",
              "      <td>...</td>\n",
              "    </tr>\n",
              "    <tr>\n",
              "      <th>1014220</th>\n",
              "      <td>1014221</td>\n",
              "      <td>248870919P000406</td>\n",
              "      <td>0</td>\n",
              "    </tr>\n",
              "    <tr>\n",
              "      <th>1014221</th>\n",
              "      <td>1014222</td>\n",
              "      <td>116000620P000034</td>\n",
              "      <td>0</td>\n",
              "    </tr>\n",
              "    <tr>\n",
              "      <th>1014222</th>\n",
              "      <td>1014223</td>\n",
              "      <td>160421019P000631</td>\n",
              "      <td>0</td>\n",
              "    </tr>\n",
              "    <tr>\n",
              "      <th>1014223</th>\n",
              "      <td>1014224</td>\n",
              "      <td>332670919P000083</td>\n",
              "      <td>0</td>\n",
              "    </tr>\n",
              "    <tr>\n",
              "      <th>1014224</th>\n",
              "      <td>1014225</td>\n",
              "      <td>106050119Y000587</td>\n",
              "      <td>0</td>\n",
              "    </tr>\n",
              "  </tbody>\n",
              "</table>\n",
              "<p>1014225 rows × 3 columns</p>\n",
              "</div>\n",
              "      <button class=\"colab-df-convert\" onclick=\"convertToInteractive('df-8a1bc1ab-afa2-471d-820d-f26473aa612b')\"\n",
              "              title=\"Convert this dataframe to an interactive table.\"\n",
              "              style=\"display:none;\">\n",
              "        \n",
              "  <svg xmlns=\"http://www.w3.org/2000/svg\" height=\"24px\"viewBox=\"0 0 24 24\"\n",
              "       width=\"24px\">\n",
              "    <path d=\"M0 0h24v24H0V0z\" fill=\"none\"/>\n",
              "    <path d=\"M18.56 5.44l.94 2.06.94-2.06 2.06-.94-2.06-.94-.94-2.06-.94 2.06-2.06.94zm-11 1L8.5 8.5l.94-2.06 2.06-.94-2.06-.94L8.5 2.5l-.94 2.06-2.06.94zm10 10l.94 2.06.94-2.06 2.06-.94-2.06-.94-.94-2.06-.94 2.06-2.06.94z\"/><path d=\"M17.41 7.96l-1.37-1.37c-.4-.4-.92-.59-1.43-.59-.52 0-1.04.2-1.43.59L10.3 9.45l-7.72 7.72c-.78.78-.78 2.05 0 2.83L4 21.41c.39.39.9.59 1.41.59.51 0 1.02-.2 1.41-.59l7.78-7.78 2.81-2.81c.8-.78.8-2.07 0-2.86zM5.41 20L4 18.59l7.72-7.72 1.47 1.35L5.41 20z\"/>\n",
              "  </svg>\n",
              "      </button>\n",
              "      \n",
              "  <style>\n",
              "    .colab-df-container {\n",
              "      display:flex;\n",
              "      flex-wrap:wrap;\n",
              "      gap: 12px;\n",
              "    }\n",
              "\n",
              "    .colab-df-convert {\n",
              "      background-color: #E8F0FE;\n",
              "      border: none;\n",
              "      border-radius: 50%;\n",
              "      cursor: pointer;\n",
              "      display: none;\n",
              "      fill: #1967D2;\n",
              "      height: 32px;\n",
              "      padding: 0 0 0 0;\n",
              "      width: 32px;\n",
              "    }\n",
              "\n",
              "    .colab-df-convert:hover {\n",
              "      background-color: #E2EBFA;\n",
              "      box-shadow: 0px 1px 2px rgba(60, 64, 67, 0.3), 0px 1px 3px 1px rgba(60, 64, 67, 0.15);\n",
              "      fill: #174EA6;\n",
              "    }\n",
              "\n",
              "    [theme=dark] .colab-df-convert {\n",
              "      background-color: #3B4455;\n",
              "      fill: #D2E3FC;\n",
              "    }\n",
              "\n",
              "    [theme=dark] .colab-df-convert:hover {\n",
              "      background-color: #434B5C;\n",
              "      box-shadow: 0px 1px 3px 1px rgba(0, 0, 0, 0.15);\n",
              "      filter: drop-shadow(0px 1px 2px rgba(0, 0, 0, 0.3));\n",
              "      fill: #FFFFFF;\n",
              "    }\n",
              "  </style>\n",
              "\n",
              "      <script>\n",
              "        const buttonEl =\n",
              "          document.querySelector('#df-8a1bc1ab-afa2-471d-820d-f26473aa612b button.colab-df-convert');\n",
              "        buttonEl.style.display =\n",
              "          google.colab.kernel.accessAllowed ? 'block' : 'none';\n",
              "\n",
              "        async function convertToInteractive(key) {\n",
              "          const element = document.querySelector('#df-8a1bc1ab-afa2-471d-820d-f26473aa612b');\n",
              "          const dataTable =\n",
              "            await google.colab.kernel.invokeFunction('convertToInteractive',\n",
              "                                                     [key], {});\n",
              "          if (!dataTable) return;\n",
              "\n",
              "          const docLinkHtml = 'Like what you see? Visit the ' +\n",
              "            '<a target=\"_blank\" href=https://colab.research.google.com/notebooks/data_table.ipynb>data table notebook</a>'\n",
              "            + ' to learn more about interactive tables.';\n",
              "          element.innerHTML = '';\n",
              "          dataTable['output_type'] = 'display_data';\n",
              "          await google.colab.output.renderOutput(dataTable, element);\n",
              "          const docLink = document.createElement('div');\n",
              "          docLink.innerHTML = docLinkHtml;\n",
              "          element.appendChild(docLink);\n",
              "        }\n",
              "      </script>\n",
              "    </div>\n",
              "  </div>\n",
              "  "
            ]
          },
          "metadata": {},
          "execution_count": 26
        }
      ]
    },
    {
      "cell_type": "code",
      "source": [
        "# Ekspor dataframe ke csv\n",
        "import csv\n",
        "\n",
        "submission.to_csv(\"mysubmission.csv\", quoting=csv.QUOTE_NONNUMERIC, index=False)"
      ],
      "metadata": {
        "id": "PsAcY7uNRXM7"
      },
      "execution_count": 27,
      "outputs": []
    },
    {
      "cell_type": "markdown",
      "source": [
        "# Penutup"
      ],
      "metadata": {
        "id": "kIg64aIU4yRl"
      }
    },
    {
      "cell_type": "markdown",
      "source": [
        "Sekian yang dapat kami sampaikan. Kami berharap dokumentasi ini dapat menjadi sumber pengetahuan yang berguna bagi teman-teman untuk mempersiapkan Big Data Challenge Satria Data selanjutnya. Selamat belajar dan semoga bermanfaat! \n",
        "\n",
        "<br>\n",
        "\n",
        "> \"Big data ibarat wanita, mudah dicinta sulit dianalisa\" ~ IM 2023\n",
        "\n",
        "<br>\n",
        "\n",
        "**SEKIAN TERIMA KASIH!**\n",
        "\n"
      ],
      "metadata": {
        "id": "11jFbgvd40fo"
      }
    }
  ],
  "metadata": {
    "colab": {
      "provenance": []
    },
    "kernelspec": {
      "display_name": "Python 3",
      "name": "python3"
    },
    "language_info": {
      "name": "python"
    }
  },
  "nbformat": 4,
  "nbformat_minor": 0
}